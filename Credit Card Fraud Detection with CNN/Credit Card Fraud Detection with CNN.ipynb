{
 "cells": [
  {
   "cell_type": "markdown",
   "id": "336cb855",
   "metadata": {},
   "source": [
    "## Step 1: Importing required libraries"
   ]
  },
  {
   "cell_type": "code",
   "execution_count": 1,
   "id": "e1708968",
   "metadata": {},
   "outputs": [],
   "source": [
    "import tensorflow as tf\n",
    "import numpy as np\n",
    "import pandas as pd\n",
    "import matplotlib.pyplot as plt\n",
    "import seaborn as sns"
   ]
  },
  {
   "cell_type": "markdown",
   "id": "bde44a5d",
   "metadata": {},
   "source": [
    "## Step 2: Data Preprocessing"
   ]
  },
  {
   "cell_type": "code",
   "execution_count": 2,
   "id": "a89ebb50",
   "metadata": {},
   "outputs": [],
   "source": [
    "# Importing the datase\n",
    "dataset_1=pd.read_csv('creditcard.csv')"
   ]
  },
  {
   "cell_type": "code",
   "execution_count": 3,
   "id": "ca45b1ff",
   "metadata": {},
   "outputs": [
    {
     "data": {
      "text/html": [
       "<div>\n",
       "<style scoped>\n",
       "    .dataframe tbody tr th:only-of-type {\n",
       "        vertical-align: middle;\n",
       "    }\n",
       "\n",
       "    .dataframe tbody tr th {\n",
       "        vertical-align: top;\n",
       "    }\n",
       "\n",
       "    .dataframe thead th {\n",
       "        text-align: right;\n",
       "    }\n",
       "</style>\n",
       "<table border=\"1\" class=\"dataframe\">\n",
       "  <thead>\n",
       "    <tr style=\"text-align: right;\">\n",
       "      <th></th>\n",
       "      <th>Time</th>\n",
       "      <th>V1</th>\n",
       "      <th>V2</th>\n",
       "      <th>V3</th>\n",
       "      <th>V4</th>\n",
       "      <th>V5</th>\n",
       "      <th>V6</th>\n",
       "      <th>V7</th>\n",
       "      <th>V8</th>\n",
       "      <th>V9</th>\n",
       "      <th>...</th>\n",
       "      <th>V21</th>\n",
       "      <th>V22</th>\n",
       "      <th>V23</th>\n",
       "      <th>V24</th>\n",
       "      <th>V25</th>\n",
       "      <th>V26</th>\n",
       "      <th>V27</th>\n",
       "      <th>V28</th>\n",
       "      <th>Amount</th>\n",
       "      <th>Class</th>\n",
       "    </tr>\n",
       "  </thead>\n",
       "  <tbody>\n",
       "    <tr>\n",
       "      <th>0</th>\n",
       "      <td>0.0</td>\n",
       "      <td>-1.359807</td>\n",
       "      <td>-0.072781</td>\n",
       "      <td>2.536347</td>\n",
       "      <td>1.378155</td>\n",
       "      <td>-0.338321</td>\n",
       "      <td>0.462388</td>\n",
       "      <td>0.239599</td>\n",
       "      <td>0.098698</td>\n",
       "      <td>0.363787</td>\n",
       "      <td>...</td>\n",
       "      <td>-0.018307</td>\n",
       "      <td>0.277838</td>\n",
       "      <td>-0.110474</td>\n",
       "      <td>0.066928</td>\n",
       "      <td>0.128539</td>\n",
       "      <td>-0.189115</td>\n",
       "      <td>0.133558</td>\n",
       "      <td>-0.021053</td>\n",
       "      <td>149.62</td>\n",
       "      <td>0</td>\n",
       "    </tr>\n",
       "    <tr>\n",
       "      <th>1</th>\n",
       "      <td>0.0</td>\n",
       "      <td>1.191857</td>\n",
       "      <td>0.266151</td>\n",
       "      <td>0.166480</td>\n",
       "      <td>0.448154</td>\n",
       "      <td>0.060018</td>\n",
       "      <td>-0.082361</td>\n",
       "      <td>-0.078803</td>\n",
       "      <td>0.085102</td>\n",
       "      <td>-0.255425</td>\n",
       "      <td>...</td>\n",
       "      <td>-0.225775</td>\n",
       "      <td>-0.638672</td>\n",
       "      <td>0.101288</td>\n",
       "      <td>-0.339846</td>\n",
       "      <td>0.167170</td>\n",
       "      <td>0.125895</td>\n",
       "      <td>-0.008983</td>\n",
       "      <td>0.014724</td>\n",
       "      <td>2.69</td>\n",
       "      <td>0</td>\n",
       "    </tr>\n",
       "    <tr>\n",
       "      <th>2</th>\n",
       "      <td>1.0</td>\n",
       "      <td>-1.358354</td>\n",
       "      <td>-1.340163</td>\n",
       "      <td>1.773209</td>\n",
       "      <td>0.379780</td>\n",
       "      <td>-0.503198</td>\n",
       "      <td>1.800499</td>\n",
       "      <td>0.791461</td>\n",
       "      <td>0.247676</td>\n",
       "      <td>-1.514654</td>\n",
       "      <td>...</td>\n",
       "      <td>0.247998</td>\n",
       "      <td>0.771679</td>\n",
       "      <td>0.909412</td>\n",
       "      <td>-0.689281</td>\n",
       "      <td>-0.327642</td>\n",
       "      <td>-0.139097</td>\n",
       "      <td>-0.055353</td>\n",
       "      <td>-0.059752</td>\n",
       "      <td>378.66</td>\n",
       "      <td>0</td>\n",
       "    </tr>\n",
       "    <tr>\n",
       "      <th>3</th>\n",
       "      <td>1.0</td>\n",
       "      <td>-0.966272</td>\n",
       "      <td>-0.185226</td>\n",
       "      <td>1.792993</td>\n",
       "      <td>-0.863291</td>\n",
       "      <td>-0.010309</td>\n",
       "      <td>1.247203</td>\n",
       "      <td>0.237609</td>\n",
       "      <td>0.377436</td>\n",
       "      <td>-1.387024</td>\n",
       "      <td>...</td>\n",
       "      <td>-0.108300</td>\n",
       "      <td>0.005274</td>\n",
       "      <td>-0.190321</td>\n",
       "      <td>-1.175575</td>\n",
       "      <td>0.647376</td>\n",
       "      <td>-0.221929</td>\n",
       "      <td>0.062723</td>\n",
       "      <td>0.061458</td>\n",
       "      <td>123.50</td>\n",
       "      <td>0</td>\n",
       "    </tr>\n",
       "    <tr>\n",
       "      <th>4</th>\n",
       "      <td>2.0</td>\n",
       "      <td>-1.158233</td>\n",
       "      <td>0.877737</td>\n",
       "      <td>1.548718</td>\n",
       "      <td>0.403034</td>\n",
       "      <td>-0.407193</td>\n",
       "      <td>0.095921</td>\n",
       "      <td>0.592941</td>\n",
       "      <td>-0.270533</td>\n",
       "      <td>0.817739</td>\n",
       "      <td>...</td>\n",
       "      <td>-0.009431</td>\n",
       "      <td>0.798278</td>\n",
       "      <td>-0.137458</td>\n",
       "      <td>0.141267</td>\n",
       "      <td>-0.206010</td>\n",
       "      <td>0.502292</td>\n",
       "      <td>0.219422</td>\n",
       "      <td>0.215153</td>\n",
       "      <td>69.99</td>\n",
       "      <td>0</td>\n",
       "    </tr>\n",
       "  </tbody>\n",
       "</table>\n",
       "<p>5 rows × 31 columns</p>\n",
       "</div>"
      ],
      "text/plain": [
       "   Time        V1        V2        V3        V4        V5        V6        V7  \\\n",
       "0   0.0 -1.359807 -0.072781  2.536347  1.378155 -0.338321  0.462388  0.239599   \n",
       "1   0.0  1.191857  0.266151  0.166480  0.448154  0.060018 -0.082361 -0.078803   \n",
       "2   1.0 -1.358354 -1.340163  1.773209  0.379780 -0.503198  1.800499  0.791461   \n",
       "3   1.0 -0.966272 -0.185226  1.792993 -0.863291 -0.010309  1.247203  0.237609   \n",
       "4   2.0 -1.158233  0.877737  1.548718  0.403034 -0.407193  0.095921  0.592941   \n",
       "\n",
       "         V8        V9  ...       V21       V22       V23       V24       V25  \\\n",
       "0  0.098698  0.363787  ... -0.018307  0.277838 -0.110474  0.066928  0.128539   \n",
       "1  0.085102 -0.255425  ... -0.225775 -0.638672  0.101288 -0.339846  0.167170   \n",
       "2  0.247676 -1.514654  ...  0.247998  0.771679  0.909412 -0.689281 -0.327642   \n",
       "3  0.377436 -1.387024  ... -0.108300  0.005274 -0.190321 -1.175575  0.647376   \n",
       "4 -0.270533  0.817739  ... -0.009431  0.798278 -0.137458  0.141267 -0.206010   \n",
       "\n",
       "        V26       V27       V28  Amount  Class  \n",
       "0 -0.189115  0.133558 -0.021053  149.62      0  \n",
       "1  0.125895 -0.008983  0.014724    2.69      0  \n",
       "2 -0.139097 -0.055353 -0.059752  378.66      0  \n",
       "3 -0.221929  0.062723  0.061458  123.50      0  \n",
       "4  0.502292  0.219422  0.215153   69.99      0  \n",
       "\n",
       "[5 rows x 31 columns]"
      ]
     },
     "execution_count": 3,
     "metadata": {},
     "output_type": "execute_result"
    }
   ],
   "source": [
    "dataset_1.head()"
   ]
  },
  {
   "cell_type": "code",
   "execution_count": 4,
   "id": "a5841e4a",
   "metadata": {},
   "outputs": [
    {
     "data": {
      "text/plain": [
       "(284807, 31)"
      ]
     },
     "execution_count": 4,
     "metadata": {},
     "output_type": "execute_result"
    }
   ],
   "source": [
    "dataset_1.shape"
   ]
  },
  {
   "cell_type": "code",
   "execution_count": 5,
   "id": "a608c0d4",
   "metadata": {},
   "outputs": [
    {
     "data": {
      "text/plain": [
       "Time      0\n",
       "V1        0\n",
       "V2        0\n",
       "V3        0\n",
       "V4        0\n",
       "V5        0\n",
       "V6        0\n",
       "V7        0\n",
       "V8        0\n",
       "V9        0\n",
       "V10       0\n",
       "V11       0\n",
       "V12       0\n",
       "V13       0\n",
       "V14       0\n",
       "V15       0\n",
       "V16       0\n",
       "V17       0\n",
       "V18       0\n",
       "V19       0\n",
       "V20       0\n",
       "V21       0\n",
       "V22       0\n",
       "V23       0\n",
       "V24       0\n",
       "V25       0\n",
       "V26       0\n",
       "V27       0\n",
       "V28       0\n",
       "Amount    0\n",
       "Class     0\n",
       "dtype: int64"
      ]
     },
     "execution_count": 5,
     "metadata": {},
     "output_type": "execute_result"
    }
   ],
   "source": [
    "# Checking Null values\n",
    "dataset_1.isnull().sum()"
   ]
  },
  {
   "cell_type": "code",
   "execution_count": 6,
   "id": "fbee4279",
   "metadata": {},
   "outputs": [
    {
     "name": "stdout",
     "output_type": "stream",
     "text": [
      "<class 'pandas.core.frame.DataFrame'>\n",
      "RangeIndex: 284807 entries, 0 to 284806\n",
      "Data columns (total 31 columns):\n",
      " #   Column  Non-Null Count   Dtype  \n",
      "---  ------  --------------   -----  \n",
      " 0   Time    284807 non-null  float64\n",
      " 1   V1      284807 non-null  float64\n",
      " 2   V2      284807 non-null  float64\n",
      " 3   V3      284807 non-null  float64\n",
      " 4   V4      284807 non-null  float64\n",
      " 5   V5      284807 non-null  float64\n",
      " 6   V6      284807 non-null  float64\n",
      " 7   V7      284807 non-null  float64\n",
      " 8   V8      284807 non-null  float64\n",
      " 9   V9      284807 non-null  float64\n",
      " 10  V10     284807 non-null  float64\n",
      " 11  V11     284807 non-null  float64\n",
      " 12  V12     284807 non-null  float64\n",
      " 13  V13     284807 non-null  float64\n",
      " 14  V14     284807 non-null  float64\n",
      " 15  V15     284807 non-null  float64\n",
      " 16  V16     284807 non-null  float64\n",
      " 17  V17     284807 non-null  float64\n",
      " 18  V18     284807 non-null  float64\n",
      " 19  V19     284807 non-null  float64\n",
      " 20  V20     284807 non-null  float64\n",
      " 21  V21     284807 non-null  float64\n",
      " 22  V22     284807 non-null  float64\n",
      " 23  V23     284807 non-null  float64\n",
      " 24  V24     284807 non-null  float64\n",
      " 25  V25     284807 non-null  float64\n",
      " 26  V26     284807 non-null  float64\n",
      " 27  V27     284807 non-null  float64\n",
      " 28  V28     284807 non-null  float64\n",
      " 29  Amount  284807 non-null  float64\n",
      " 30  Class   284807 non-null  int64  \n",
      "dtypes: float64(30), int64(1)\n",
      "memory usage: 67.4 MB\n"
     ]
    }
   ],
   "source": [
    "dataset_1.info()"
   ]
  },
  {
   "cell_type": "code",
   "execution_count": 7,
   "id": "a58ecd74",
   "metadata": {},
   "outputs": [
    {
     "data": {
      "text/plain": [
       "0    284315\n",
       "1       492\n",
       "Name: Class, dtype: int64"
      ]
     },
     "execution_count": 7,
     "metadata": {},
     "output_type": "execute_result"
    }
   ],
   "source": [
    "dataset_1['Class'].value_counts()"
   ]
  },
  {
   "cell_type": "markdown",
   "id": "8dfad19b",
   "metadata": {},
   "source": [
    "### It is imbalance dataset\n",
    "### Need to make balance dataset"
   ]
  },
  {
   "cell_type": "code",
   "execution_count": 8,
   "id": "2faae322",
   "metadata": {},
   "outputs": [],
   "source": [
    "fraud=dataset_1[dataset_1['Class']==1]\n",
    "non_fraud=dataset_1[dataset_1['Class']==0]"
   ]
  },
  {
   "cell_type": "code",
   "execution_count": 9,
   "id": "38e3743e",
   "metadata": {},
   "outputs": [
    {
     "data": {
      "text/plain": [
       "((492, 31), (284315, 31))"
      ]
     },
     "execution_count": 9,
     "metadata": {},
     "output_type": "execute_result"
    }
   ],
   "source": [
    "fraud.shape,non_fraud.shape"
   ]
  },
  {
   "cell_type": "code",
   "execution_count": 10,
   "id": "270094c8",
   "metadata": {},
   "outputs": [],
   "source": [
    "# random selection of sample\n",
    "non_fraud_t=non_fraud.sample(500)"
   ]
  },
  {
   "cell_type": "code",
   "execution_count": 11,
   "id": "69a437bc",
   "metadata": {},
   "outputs": [
    {
     "data": {
      "text/plain": [
       "(500, 31)"
      ]
     },
     "execution_count": 11,
     "metadata": {},
     "output_type": "execute_result"
    }
   ],
   "source": [
    "non_fraud_t.shape"
   ]
  },
  {
   "cell_type": "code",
   "execution_count": 12,
   "id": "310ccc95",
   "metadata": {},
   "outputs": [
    {
     "name": "stderr",
     "output_type": "stream",
     "text": [
      "C:\\Users\\SAMADHAN\\AppData\\Local\\Temp\\ipykernel_8000\\727451677.py:2: FutureWarning: The frame.append method is deprecated and will be removed from pandas in a future version. Use pandas.concat instead.\n",
      "  dataset=fraud.append(non_fraud_t,ignore_index=True)\n"
     ]
    }
   ],
   "source": [
    "# Merge dataset\n",
    "dataset=fraud.append(non_fraud_t,ignore_index=True)"
   ]
  },
  {
   "cell_type": "code",
   "execution_count": 13,
   "id": "22088976",
   "metadata": {},
   "outputs": [
    {
     "data": {
      "text/plain": [
       "(992, 31)"
      ]
     },
     "execution_count": 13,
     "metadata": {},
     "output_type": "execute_result"
    }
   ],
   "source": [
    "dataset.shape"
   ]
  },
  {
   "cell_type": "code",
   "execution_count": 14,
   "id": "73635013",
   "metadata": {},
   "outputs": [
    {
     "data": {
      "text/plain": [
       "0    500\n",
       "1    492\n",
       "Name: Class, dtype: int64"
      ]
     },
     "execution_count": 14,
     "metadata": {},
     "output_type": "execute_result"
    }
   ],
   "source": [
    "dataset['Class'].value_counts()"
   ]
  },
  {
   "cell_type": "code",
   "execution_count": 15,
   "id": "49785c4a",
   "metadata": {},
   "outputs": [],
   "source": [
    "# Independent features\n",
    "x=dataset.drop('Class',axis=1)"
   ]
  },
  {
   "cell_type": "code",
   "execution_count": 16,
   "id": "e6a2e7b0",
   "metadata": {},
   "outputs": [],
   "source": [
    "# Dependent features\n",
    "y=dataset['Class']"
   ]
  },
  {
   "cell_type": "code",
   "execution_count": 17,
   "id": "05256550",
   "metadata": {},
   "outputs": [
    {
     "data": {
      "text/plain": [
       "((992, 30), (992,))"
      ]
     },
     "execution_count": 17,
     "metadata": {},
     "output_type": "execute_result"
    }
   ],
   "source": [
    "x.shape,y.shape"
   ]
  },
  {
   "cell_type": "code",
   "execution_count": 18,
   "id": "72289440",
   "metadata": {},
   "outputs": [],
   "source": [
    "# Splitting the dataset\n",
    "from sklearn.model_selection import train_test_split\n",
    "x_train,x_test,y_train,y_test=train_test_split(x,y,test_size=0.2,random_state=0)   "
   ]
  },
  {
   "cell_type": "code",
   "execution_count": 19,
   "id": "9a934b3f",
   "metadata": {},
   "outputs": [
    {
     "data": {
      "text/plain": [
       "((793, 30), (199, 30))"
      ]
     },
     "execution_count": 19,
     "metadata": {},
     "output_type": "execute_result"
    }
   ],
   "source": [
    "x_train.shape,x_test.shape"
   ]
  },
  {
   "cell_type": "code",
   "execution_count": 20,
   "id": "303c76f0",
   "metadata": {},
   "outputs": [],
   "source": [
    "# Feature Scaling\n",
    "from sklearn.preprocessing import StandardScaler\n",
    "sc=StandardScaler()\n",
    "x_train=sc.fit_transform(x_train)\n",
    "x_test=sc.transform(x_test)"
   ]
  },
  {
   "cell_type": "code",
   "execution_count": 21,
   "id": "26c4b239",
   "metadata": {},
   "outputs": [
    {
     "data": {
      "text/plain": [
       "array([[-0.50807886,  0.29184011, -0.49259167, ..., -0.12621575,\n",
       "         0.08808087,  0.25619081],\n",
       "       [ 1.41418727,  0.79171565, -0.53284999, ..., -0.13477721,\n",
       "        -0.19142363, -0.35010318],\n",
       "       [-0.94109818, -0.53075181,  0.62623402, ...,  2.19570308,\n",
       "         1.11300743, -0.06565327],\n",
       "       ...,\n",
       "       [-0.48372541,  0.63546819, -0.59619499, ..., -0.03648186,\n",
       "        -0.03449693, -0.28486716],\n",
       "       [-1.37614695,  0.64046857, -0.56284705, ..., -0.02712436,\n",
       "        -0.03150475, -0.31466512],\n",
       "       [ 1.23822528,  0.39525225, -0.28105109, ...,  0.01823807,\n",
       "         0.08038018, -0.34746244]])"
      ]
     },
     "execution_count": 21,
     "metadata": {},
     "output_type": "execute_result"
    }
   ],
   "source": [
    "x_train"
   ]
  },
  {
   "cell_type": "code",
   "execution_count": 22,
   "id": "ea13de21",
   "metadata": {},
   "outputs": [],
   "source": [
    "y_train=y_train.to_numpy()\n",
    "y_test=y_test.to_numpy()"
   ]
  },
  {
   "cell_type": "code",
   "execution_count": 23,
   "id": "a0d5f55e",
   "metadata": {},
   "outputs": [
    {
     "data": {
      "text/plain": [
       "((793, 30), (199, 30))"
      ]
     },
     "execution_count": 23,
     "metadata": {},
     "output_type": "execute_result"
    }
   ],
   "source": [
    "x_train.shape,x_test.shape"
   ]
  },
  {
   "cell_type": "code",
   "execution_count": 24,
   "id": "3b09591c",
   "metadata": {},
   "outputs": [],
   "source": [
    "#reshape the dataset\n",
    "x_train=x_train.reshape(793,30,1)\n",
    "x_test=x_test.reshape(199,30,1)"
   ]
  },
  {
   "cell_type": "markdown",
   "id": "a8654fea",
   "metadata": {},
   "source": [
    "## Step 3: Building the Model"
   ]
  },
  {
   "cell_type": "code",
   "execution_count": 25,
   "id": "189f965b",
   "metadata": {},
   "outputs": [],
   "source": [
    "# defining an object\n",
    "model = tf.keras.Sequential()"
   ]
  },
  {
   "cell_type": "code",
   "execution_count": 26,
   "id": "acdbf995",
   "metadata": {},
   "outputs": [],
   "source": [
    "# first CNN layer\n",
    "model.add(tf.keras.layers.Conv1D(filters=32,kernel_size=2,padding='same',activation='relu',input_shape=(30,1)))\n",
    "\n",
    "# batch normalization\n",
    "model.add(tf.keras.layers.BatchNormalization())\n",
    "\n",
    "# maxpool layer\n",
    "model.add(tf.keras.layers.MaxPool1D(pool_size=2))\n",
    "\n",
    "# dropout layer\n",
    "model.add(tf.keras.layers.Dropout(0.2))"
   ]
  },
  {
   "cell_type": "code",
   "execution_count": 27,
   "id": "5f12b0a2",
   "metadata": {},
   "outputs": [],
   "source": [
    "# second CNN layer\n",
    "model.add(tf.keras.layers.Conv1D(filters=64,kernel_size=2,padding='same',activation='relu'))\n",
    "\n",
    "# batch normalization\n",
    "model.add(tf.keras.layers.BatchNormalization())\n",
    "\n",
    "# maxpool layer\n",
    "model.add(tf.keras.layers.MaxPool1D(pool_size=2))\n",
    "\n",
    "# dropout layer\n",
    "model.add(tf.keras.layers.Dropout(0.3))"
   ]
  },
  {
   "cell_type": "code",
   "execution_count": 38,
   "id": "e9130351",
   "metadata": {},
   "outputs": [],
   "source": [
    "# flatten layer\n",
    "model.add(tf.keras.layers.Flatten())"
   ]
  },
  {
   "cell_type": "code",
   "execution_count": 39,
   "id": "c9a9aa81",
   "metadata": {},
   "outputs": [],
   "source": [
    "# first dense layer\n",
    "model.add(tf.keras.layers.Dense(units=64,activation='relu'))\n",
    "\n",
    "# dropout layer\n",
    "model.add(tf.keras.layers.Dropout(0.3))"
   ]
  },
  {
   "cell_type": "code",
   "execution_count": 40,
   "id": "ce28b11d",
   "metadata": {},
   "outputs": [],
   "source": [
    "# output layer\n",
    "model.add(tf.keras.layers.Dense(units=1,activation='sigmoid'))"
   ]
  },
  {
   "cell_type": "code",
   "execution_count": 41,
   "id": "21fd139c",
   "metadata": {},
   "outputs": [
    {
     "name": "stdout",
     "output_type": "stream",
     "text": [
      "Model: \"sequential\"\n",
      "_________________________________________________________________\n",
      " Layer (type)                Output Shape              Param #   \n",
      "=================================================================\n",
      " conv1d (Conv1D)             (None, 30, 32)            96        \n",
      "                                                                 \n",
      " batch_normalization (Batch  (None, 30, 32)            128       \n",
      " Normalization)                                                  \n",
      "                                                                 \n",
      " max_pooling1d (MaxPooling1  (None, 15, 32)            0         \n",
      " D)                                                              \n",
      "                                                                 \n",
      " dropout (Dropout)           (None, 15, 32)            0         \n",
      "                                                                 \n",
      " conv1d_1 (Conv1D)           (None, 15, 64)            4160      \n",
      "                                                                 \n",
      " batch_normalization_1 (Bat  (None, 15, 64)            256       \n",
      " chNormalization)                                                \n",
      "                                                                 \n",
      " max_pooling1d_1 (MaxPoolin  (None, 7, 64)             0         \n",
      " g1D)                                                            \n",
      "                                                                 \n",
      " dropout_1 (Dropout)         (None, 7, 64)             0         \n",
      "                                                                 \n",
      " dense (Dense)               (None, 7, 64)             4160      \n",
      "                                                                 \n",
      " dropout_2 (Dropout)         (None, 7, 64)             0         \n",
      "                                                                 \n",
      " dense_1 (Dense)             (None, 7, 1)              65        \n",
      "                                                                 \n",
      " flatten (Flatten)           (None, 7)                 0         \n",
      "                                                                 \n",
      " dense_2 (Dense)             (None, 64)                512       \n",
      "                                                                 \n",
      " dropout_3 (Dropout)         (None, 64)                0         \n",
      "                                                                 \n",
      " dense_3 (Dense)             (None, 1)                 65        \n",
      "                                                                 \n",
      "=================================================================\n",
      "Total params: 9442 (36.88 KB)\n",
      "Trainable params: 9250 (36.13 KB)\n",
      "Non-trainable params: 192 (768.00 Byte)\n",
      "_________________________________________________________________\n"
     ]
    }
   ],
   "source": [
    "model.summary()"
   ]
  },
  {
   "cell_type": "code",
   "execution_count": 44,
   "id": "d8dfa00b",
   "metadata": {},
   "outputs": [],
   "source": [
    "model.compile(optimizer='adam',loss='binary_crossentropy',metrics=['accuracy'])"
   ]
  },
  {
   "cell_type": "markdown",
   "id": "91b87d47",
   "metadata": {},
   "source": [
    "## Step 4: Training the Model "
   ]
  },
  {
   "cell_type": "code",
   "execution_count": 59,
   "id": "736da88e",
   "metadata": {},
   "outputs": [
    {
     "name": "stdout",
     "output_type": "stream",
     "text": [
      "Epoch 1/50\n",
      "25/25 [==============================] - 0s 9ms/step - loss: 0.1324 - accuracy: 0.9508 - val_loss: 0.2511 - val_accuracy: 0.9095\n",
      "Epoch 2/50\n",
      "25/25 [==============================] - 0s 7ms/step - loss: 0.1230 - accuracy: 0.9559 - val_loss: 0.2472 - val_accuracy: 0.9146\n",
      "Epoch 3/50\n",
      "25/25 [==============================] - 0s 8ms/step - loss: 0.1395 - accuracy: 0.9496 - val_loss: 0.2407 - val_accuracy: 0.9246\n",
      "Epoch 4/50\n",
      "25/25 [==============================] - 0s 7ms/step - loss: 0.1303 - accuracy: 0.9559 - val_loss: 0.2344 - val_accuracy: 0.9246\n",
      "Epoch 5/50\n",
      "25/25 [==============================] - 0s 8ms/step - loss: 0.1244 - accuracy: 0.9508 - val_loss: 0.2329 - val_accuracy: 0.9246\n",
      "Epoch 6/50\n",
      "25/25 [==============================] - 0s 8ms/step - loss: 0.1227 - accuracy: 0.9634 - val_loss: 0.2361 - val_accuracy: 0.9196\n",
      "Epoch 7/50\n",
      "25/25 [==============================] - 0s 7ms/step - loss: 0.1316 - accuracy: 0.9496 - val_loss: 0.2451 - val_accuracy: 0.9196\n",
      "Epoch 8/50\n",
      "25/25 [==============================] - 0s 7ms/step - loss: 0.1358 - accuracy: 0.9533 - val_loss: 0.2526 - val_accuracy: 0.9146\n",
      "Epoch 9/50\n",
      "25/25 [==============================] - 0s 7ms/step - loss: 0.1285 - accuracy: 0.9546 - val_loss: 0.2519 - val_accuracy: 0.9196\n",
      "Epoch 10/50\n",
      "25/25 [==============================] - 0s 8ms/step - loss: 0.1383 - accuracy: 0.9521 - val_loss: 0.2588 - val_accuracy: 0.9146\n",
      "Epoch 11/50\n",
      "25/25 [==============================] - 0s 7ms/step - loss: 0.1239 - accuracy: 0.9496 - val_loss: 0.2541 - val_accuracy: 0.9146\n",
      "Epoch 12/50\n",
      "25/25 [==============================] - 0s 7ms/step - loss: 0.1276 - accuracy: 0.9584 - val_loss: 0.2451 - val_accuracy: 0.9196\n",
      "Epoch 13/50\n",
      "25/25 [==============================] - 0s 7ms/step - loss: 0.1198 - accuracy: 0.9571 - val_loss: 0.2427 - val_accuracy: 0.9146\n",
      "Epoch 14/50\n",
      "25/25 [==============================] - 0s 7ms/step - loss: 0.1210 - accuracy: 0.9496 - val_loss: 0.2458 - val_accuracy: 0.9146\n",
      "Epoch 15/50\n",
      "25/25 [==============================] - 0s 7ms/step - loss: 0.1194 - accuracy: 0.9596 - val_loss: 0.2519 - val_accuracy: 0.9246\n",
      "Epoch 16/50\n",
      "25/25 [==============================] - 0s 16ms/step - loss: 0.1192 - accuracy: 0.9634 - val_loss: 0.2392 - val_accuracy: 0.9095\n",
      "Epoch 17/50\n",
      "25/25 [==============================] - 0s 16ms/step - loss: 0.1324 - accuracy: 0.9546 - val_loss: 0.2428 - val_accuracy: 0.9095\n",
      "Epoch 18/50\n",
      "25/25 [==============================] - 0s 15ms/step - loss: 0.1205 - accuracy: 0.9571 - val_loss: 0.2448 - val_accuracy: 0.9196\n",
      "Epoch 19/50\n",
      "25/25 [==============================] - 0s 15ms/step - loss: 0.1298 - accuracy: 0.9622 - val_loss: 0.2451 - val_accuracy: 0.9095\n",
      "Epoch 20/50\n",
      "25/25 [==============================] - 0s 16ms/step - loss: 0.1360 - accuracy: 0.9496 - val_loss: 0.2426 - val_accuracy: 0.9196\n",
      "Epoch 21/50\n",
      "25/25 [==============================] - 0s 15ms/step - loss: 0.1251 - accuracy: 0.9546 - val_loss: 0.2413 - val_accuracy: 0.9095\n",
      "Epoch 22/50\n",
      "25/25 [==============================] - 0s 15ms/step - loss: 0.1114 - accuracy: 0.9647 - val_loss: 0.2267 - val_accuracy: 0.9246\n",
      "Epoch 23/50\n",
      "25/25 [==============================] - 0s 15ms/step - loss: 0.1300 - accuracy: 0.9596 - val_loss: 0.2242 - val_accuracy: 0.9196\n",
      "Epoch 24/50\n",
      "25/25 [==============================] - 0s 14ms/step - loss: 0.1059 - accuracy: 0.9647 - val_loss: 0.2277 - val_accuracy: 0.9196\n",
      "Epoch 25/50\n",
      "25/25 [==============================] - 0s 7ms/step - loss: 0.1389 - accuracy: 0.9496 - val_loss: 0.2379 - val_accuracy: 0.9095\n",
      "Epoch 26/50\n",
      "25/25 [==============================] - 0s 7ms/step - loss: 0.1227 - accuracy: 0.9559 - val_loss: 0.2421 - val_accuracy: 0.9146\n",
      "Epoch 27/50\n",
      "25/25 [==============================] - 0s 7ms/step - loss: 0.1400 - accuracy: 0.9496 - val_loss: 0.2501 - val_accuracy: 0.9146\n",
      "Epoch 28/50\n",
      "25/25 [==============================] - 0s 8ms/step - loss: 0.1264 - accuracy: 0.9622 - val_loss: 0.2483 - val_accuracy: 0.9095\n",
      "Epoch 29/50\n",
      "25/25 [==============================] - 0s 8ms/step - loss: 0.1147 - accuracy: 0.9571 - val_loss: 0.2506 - val_accuracy: 0.9095\n",
      "Epoch 30/50\n",
      "25/25 [==============================] - 0s 7ms/step - loss: 0.1153 - accuracy: 0.9647 - val_loss: 0.2510 - val_accuracy: 0.8995\n",
      "Epoch 31/50\n",
      "25/25 [==============================] - 0s 7ms/step - loss: 0.1215 - accuracy: 0.9584 - val_loss: 0.2460 - val_accuracy: 0.9095\n",
      "Epoch 32/50\n",
      "25/25 [==============================] - 0s 8ms/step - loss: 0.1004 - accuracy: 0.9723 - val_loss: 0.2550 - val_accuracy: 0.9045\n",
      "Epoch 33/50\n",
      "25/25 [==============================] - 0s 8ms/step - loss: 0.1210 - accuracy: 0.9609 - val_loss: 0.2627 - val_accuracy: 0.8995\n",
      "Epoch 34/50\n",
      "25/25 [==============================] - 0s 8ms/step - loss: 0.1029 - accuracy: 0.9697 - val_loss: 0.2542 - val_accuracy: 0.9095\n",
      "Epoch 35/50\n",
      "25/25 [==============================] - 0s 7ms/step - loss: 0.1383 - accuracy: 0.9496 - val_loss: 0.2464 - val_accuracy: 0.9095\n",
      "Epoch 36/50\n",
      "25/25 [==============================] - 0s 14ms/step - loss: 0.1126 - accuracy: 0.9647 - val_loss: 0.2511 - val_accuracy: 0.8894\n",
      "Epoch 37/50\n",
      "25/25 [==============================] - 0s 16ms/step - loss: 0.1248 - accuracy: 0.9596 - val_loss: 0.2480 - val_accuracy: 0.9146\n",
      "Epoch 38/50\n",
      "25/25 [==============================] - 0s 15ms/step - loss: 0.1232 - accuracy: 0.9609 - val_loss: 0.2508 - val_accuracy: 0.9095\n",
      "Epoch 39/50\n",
      "25/25 [==============================] - 0s 15ms/step - loss: 0.1069 - accuracy: 0.9634 - val_loss: 0.2619 - val_accuracy: 0.8995\n",
      "Epoch 40/50\n",
      "25/25 [==============================] - 0s 16ms/step - loss: 0.1114 - accuracy: 0.9672 - val_loss: 0.2535 - val_accuracy: 0.9045\n",
      "Epoch 41/50\n",
      "25/25 [==============================] - 0s 15ms/step - loss: 0.1223 - accuracy: 0.9521 - val_loss: 0.2596 - val_accuracy: 0.8995\n",
      "Epoch 42/50\n",
      "25/25 [==============================] - 0s 15ms/step - loss: 0.1237 - accuracy: 0.9546 - val_loss: 0.2584 - val_accuracy: 0.9095\n",
      "Epoch 43/50\n",
      "25/25 [==============================] - 0s 16ms/step - loss: 0.1134 - accuracy: 0.9596 - val_loss: 0.2564 - val_accuracy: 0.8945\n",
      "Epoch 44/50\n",
      "25/25 [==============================] - 0s 15ms/step - loss: 0.1191 - accuracy: 0.9609 - val_loss: 0.2521 - val_accuracy: 0.8945\n",
      "Epoch 45/50\n",
      "25/25 [==============================] - 0s 8ms/step - loss: 0.1136 - accuracy: 0.9634 - val_loss: 0.2498 - val_accuracy: 0.8995\n",
      "Epoch 46/50\n",
      "25/25 [==============================] - 0s 8ms/step - loss: 0.1259 - accuracy: 0.9533 - val_loss: 0.2519 - val_accuracy: 0.9146\n",
      "Epoch 47/50\n",
      "25/25 [==============================] - 0s 7ms/step - loss: 0.1009 - accuracy: 0.9634 - val_loss: 0.2578 - val_accuracy: 0.9045\n",
      "Epoch 48/50\n",
      "25/25 [==============================] - 0s 7ms/step - loss: 0.1061 - accuracy: 0.9609 - val_loss: 0.2545 - val_accuracy: 0.9146\n",
      "Epoch 49/50\n",
      "25/25 [==============================] - 0s 7ms/step - loss: 0.1040 - accuracy: 0.9571 - val_loss: 0.2667 - val_accuracy: 0.8945\n",
      "Epoch 50/50\n",
      "25/25 [==============================] - 0s 7ms/step - loss: 0.1155 - accuracy: 0.9571 - val_loss: 0.2631 - val_accuracy: 0.8995\n"
     ]
    },
    {
     "data": {
      "text/plain": [
       "<keras.src.callbacks.History at 0x2088ff1f0d0>"
      ]
     },
     "execution_count": 59,
     "metadata": {},
     "output_type": "execute_result"
    }
   ],
   "source": [
    "model.fit(x_train,y_train,epochs=50,validation_data=(x_test,y_test))"
   ]
  },
  {
   "cell_type": "code",
   "execution_count": 60,
   "id": "850be286",
   "metadata": {},
   "outputs": [
    {
     "name": "stdout",
     "output_type": "stream",
     "text": [
      "7/7 [==============================] - 0s 2ms/step - loss: 0.2631 - accuracy: 0.8995\n"
     ]
    },
    {
     "data": {
      "text/plain": [
       "[0.2631307542324066, 0.8994975090026855]"
      ]
     },
     "execution_count": 60,
     "metadata": {},
     "output_type": "execute_result"
    }
   ],
   "source": [
    "model.evaluate(x_test,y_test)"
   ]
  },
  {
   "cell_type": "code",
   "execution_count": 61,
   "id": "9ce92406",
   "metadata": {},
   "outputs": [
    {
     "name": "stdout",
     "output_type": "stream",
     "text": [
      "7/7 [==============================] - 0s 2ms/step\n"
     ]
    }
   ],
   "source": [
    "# model prediction\n",
    "y_pred=model.predict(x_test)"
   ]
  },
  {
   "cell_type": "code",
   "execution_count": 62,
   "id": "22668e1f",
   "metadata": {},
   "outputs": [
    {
     "name": "stdout",
     "output_type": "stream",
     "text": [
      "[0.99834955]\n",
      "1\n"
     ]
    },
    {
     "data": {
      "text/plain": [
       "(None, None)"
      ]
     },
     "execution_count": 62,
     "metadata": {},
     "output_type": "execute_result"
    }
   ],
   "source": [
    "print(y_pred[5]) , print(y_test[5])"
   ]
  },
  {
   "cell_type": "code",
   "execution_count": null,
   "id": "5bee1f4b",
   "metadata": {},
   "outputs": [],
   "source": []
  },
  {
   "cell_type": "code",
   "execution_count": null,
   "id": "ea78b8fa",
   "metadata": {},
   "outputs": [],
   "source": []
  }
 ],
 "metadata": {
  "kernelspec": {
   "display_name": "Python 3 (ipykernel)",
   "language": "python",
   "name": "python3"
  },
  "language_info": {
   "codemirror_mode": {
    "name": "ipython",
    "version": 3
   },
   "file_extension": ".py",
   "mimetype": "text/x-python",
   "name": "python",
   "nbconvert_exporter": "python",
   "pygments_lexer": "ipython3",
   "version": "3.11.4"
  }
 },
 "nbformat": 4,
 "nbformat_minor": 5
}
